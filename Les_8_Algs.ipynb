{
  "nbformat": 4,
  "nbformat_minor": 0,
  "metadata": {
    "colab": {
      "name": "Les_8 Algs.ipynb",
      "provenance": [],
      "collapsed_sections": [],
      "authorship_tag": "ABX9TyOyuZ0nIyWRXtoFi4dDW59+",
      "include_colab_link": true
    },
    "kernelspec": {
      "name": "python3",
      "display_name": "Python 3"
    },
    "language_info": {
      "name": "python"
    }
  },
  "cells": [
    {
      "cell_type": "markdown",
      "metadata": {
        "id": "view-in-github",
        "colab_type": "text"
      },
      "source": [
        "<a href=\"https://colab.research.google.com/github/StrizhAXE/DataAlgoritm/blob/main/Les_8_Algs.ipynb\" target=\"_parent\"><img src=\"https://colab.research.google.com/assets/colab-badge.svg\" alt=\"Open In Colab\"/></a>"
      ]
    },
    {
      "cell_type": "code",
      "metadata": {
        "id": "77vuoYvQzoGZ"
      },
      "source": [
        "1. Можно ли отобрать наиболее значимые признаки с помощью PCA?\n",
        "\n",
        "Нет. \n",
        "PCА используется для уменьшения размерности. При этом учитываются веса всех признаков при формировании матрицы весов."
      ],
      "execution_count": null,
      "outputs": []
    }
  ]
}