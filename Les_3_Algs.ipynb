{
  "nbformat": 4,
  "nbformat_minor": 0,
  "metadata": {
    "colab": {
      "name": "Les_3 Algs.ipynb",
      "provenance": [],
      "collapsed_sections": [],
      "authorship_tag": "ABX9TyMB5zHkmOKNQd/mkzeH33ib",
      "include_colab_link": true
    },
    "kernelspec": {
      "name": "python3",
      "display_name": "Python 3"
    },
    "language_info": {
      "name": "python"
    }
  },
  "cells": [
    {
      "cell_type": "markdown",
      "metadata": {
        "id": "view-in-github",
        "colab_type": "text"
      },
      "source": [
        "<a href=\"https://colab.research.google.com/github/StrizhAXE/DataAlgoritm/blob/main/Les_3_Algs.ipynb\" target=\"_parent\"><img src=\"https://colab.research.google.com/assets/colab-badge.svg\" alt=\"Open In Colab\"/></a>"
      ]
    },
    {
      "cell_type": "markdown",
      "metadata": {
        "id": "hbzH0q9SJnV7"
      },
      "source": [
        "1. Измените функцию `calc_logloss` так, чтобы нули по возможности не попадали в `np.log` (как вариант - использовать `np.clip` или `np.where`).  \n",
        "2. Подберите аргументы функции `eval_LR_model` для логистической регрессии таким образом, чтобы log loss был минимальным. Покажите влияние гиперпараметров на ошибку алгоритма (оптимально здесь использовать критерий остановки обучения).\n",
        "3. Создайте функцию `calc_pred_proba`, возвращающую предсказанную вероятность класса 1 (на вход подаются значения признаков Х и веса, которые уже посчитаны функцией `eval_LR_model`, на выходе - массив `y_pred_proba`).\n",
        "4. Создайте функцию `calc_pred`, возвращающую предсказанный класс (на вход подаются значения признаков `Х` и веса, которые уже посчитаны функцией `eval_LR_model`, на выходе - массив `y_pred`).\n",
        "5. Посчитайте accuracy, матрицу ошибок, precision и recall, а также F1-score.\n",
        "6. Могла ли модель переобучиться? Почему?\n",
        "7. (\\*) Создайте функции `eval_LR_model_l1` и `eval_LR_model_l2` с применением L1 и L2 регуляризации соответственно."
      ]
    },
    {
      "cell_type": "code",
      "metadata": {
        "id": "zhwkeWtb1O0w"
      },
      "source": [
        "import numpy as np\n",
        "import matplotlib.pyplot as plt"
      ],
      "execution_count": 1,
      "outputs": []
    },
    {
      "cell_type": "code",
      "metadata": {
        "id": "H9lDU1dRJgGv"
      },
      "source": [
        "%matplotlib inline\n",
        "plt.style.use('seaborn-ticks')\n",
        "plt.rcParams.update({'font.size': 14})"
      ],
      "execution_count": 2,
      "outputs": []
    },
    {
      "cell_type": "code",
      "metadata": {
        "id": "SmqMRiRyLe5H"
      },
      "source": [
        "X = np.array([[1, 1, 1, 1, 1, 1, 1, 1, 1, 1],\n",
        "              [1, 1, 2, 1, 3, 0, 5, 10, 1, 2],  # стаж репетитора\n",
        "              [500, 700, 750, 600, 1450,        # средняя стоимость занятия\n",
        "               800, 1500, 2000, 450, 1000],\n",
        "              [1, 1, 2, 1, 2, 1, 3, 3, 1, 2]],  # квалификация репетитора\n",
        "              dtype = np.float64).T \n",
        "\n",
        "y = np.array([0, 0, 1, 0, 1, 0, 1, 0, 1, 1]) # поступил или нет ученик на специальность Математика\n",
        "# X"
      ],
      "execution_count": 3,
      "outputs": []
    },
    {
      "cell_type": "code",
      "metadata": {
        "id": "fMf93V-1MRhA"
      },
      "source": [
        "def sigmoid(z):\n",
        "    res = 1 / (1 + np.exp(-z))\n",
        "    return res"
      ],
      "execution_count": 4,
      "outputs": []
    },
    {
      "cell_type": "code",
      "metadata": {
        "id": "LkmkW-nYLxet"
      },
      "source": [
        "def standard_scaler(x):\n",
        "    res = (x - x.mean()) / x.std()\n",
        "    return res\n",
        "\n",
        "X_st = X.copy()\n",
        "X_st[:, 2] = standard_scaler(X[:, 2])\n",
        "# X_st[:, 2]"
      ],
      "execution_count": 5,
      "outputs": []
    },
    {
      "cell_type": "code",
      "metadata": {
        "id": "4cgg7c8cL6rf"
      },
      "source": [
        "def eval_LR_model(X, y, iterations, alpha=1e-4):\n",
        "    np.random.seed(42)\n",
        "    w = np.random.randn(X.shape[1])\n",
        "    n = X.shape[0]\n",
        "    for i in range(1, iterations + 1):\n",
        "        z = np.dot(X, w) # log(p/(1-p))\n",
        "        y_pred = sigmoid(z) # p [0, 1]\n",
        "        err = calc_logloss(y, y_pred)\n",
        "        w -= alpha * (1/n * np.dot(X.T, (y_pred - y)))\n",
        "        if i % (iterations / 10) == 0:\n",
        "            print(i, w, err)\n",
        "    return w"
      ],
      "execution_count": 6,
      "outputs": []
    },
    {
      "cell_type": "code",
      "metadata": {
        "id": "kq6ivsRdKd_9"
      },
      "source": [
        "# Измените функцию calc_logloss так, чтобы нули по возможности не попадали в np.log (как вариант - использовать np.clip или np.where)"
      ],
      "execution_count": 7,
      "outputs": []
    },
    {
      "cell_type": "code",
      "metadata": {
        "id": "vP9OFfeAKIXG"
      },
      "source": [
        "def calc_logloss(y, y_pred):\n",
        "    np.clip(y_pred, 0.01, 0.99, out = y_pred)\n",
        "    err = np.mean(- y * np.log(y_pred) - (1.0 - y) * np.log(1.0 - y_pred))\n",
        "    return err"
      ],
      "execution_count": 8,
      "outputs": []
    },
    {
      "cell_type": "code",
      "metadata": {
        "id": "_F5JgKxILaXd"
      },
      "source": [
        "# Подберите аргументы функции eval_LR_model для логистической регрессии таким образом, чтобы log loss был минимальным. \n",
        "# Покажите влияние гиперпараметров на ошибку алгоритма (оптимально здесь использовать критерий остановки обучения)"
      ],
      "execution_count": 9,
      "outputs": []
    },
    {
      "cell_type": "code",
      "metadata": {
        "id": "m8IMg3KjNP3U"
      },
      "source": [
        "def eval_LR_model_mod(X, y, delta=1e-6, alpha=1e-4):\n",
        "    np.random.seed(42)\n",
        "    w = np.random.randn(X.shape[1])\n",
        "    n = X.shape[0]\n",
        "    i = 0\n",
        "    err = 10 * delta # начальное значение ошибки\n",
        "    while True:\n",
        "        z = np.dot(X, w) # log(p/(1-p))\n",
        "        y_pred = sigmoid(z) # p [0, 1]\n",
        "        err_old = err\n",
        "        err = calc_logloss(y, y_pred)\n",
        "        w -= alpha * (1/n * np.dot(X.T, (y_pred - y)))\n",
        "        delta_err = abs(err - err_old)\n",
        "        if delta_err < delta:\n",
        "            # print(f\"w = {w}, \\nerr = {err}, \\ni = {i}\")\n",
        "            break\n",
        "        i += 1\n",
        "    return w, err, i"
      ],
      "execution_count": 10,
      "outputs": []
    },
    {
      "cell_type": "code",
      "metadata": {
        "colab": {
          "base_uri": "https://localhost:8080/"
        },
        "id": "KxF6Bxz8MMHK",
        "outputId": "28a56b2b-3469-4a35-8779-246c92f80fe8"
      },
      "source": [
        "w, error, num_iters = eval_LR_model_mod(X_st, y, 1e-10, 5)\n",
        "print(f\"w = {w}, \\nerror = {error}, \\ni = {num_iters}\")"
      ],
      "execution_count": 11,
      "outputs": [
        {
          "output_type": "stream",
          "name": "stdout",
          "text": [
            "w = [-385.58493284  -51.03988018  -79.97863413  353.54733252], \n",
            "error = 0.015280765769949089, \n",
            "i = 48815\n"
          ]
        }
      ]
    },
    {
      "cell_type": "code",
      "metadata": {
        "id": "nwqlSsMZpuP9"
      },
      "source": [
        "error_list = ['error', [], 'delta', []]\n",
        "for delta in np.geomspace(1e-1, 1e-7, num=10):\n",
        "    w, error, num_iters =  eval_LR_model_mod(X_st, y, delta, 5)\n",
        "    # print(f\"error = {error}, i = {num_iters}\")\n",
        "    error_list[1].extend([error])\n",
        "    error_list[3].extend([delta])"
      ],
      "execution_count": 12,
      "outputs": []
    },
    {
      "cell_type": "code",
      "metadata": {
        "colab": {
          "base_uri": "https://localhost:8080/",
          "height": 309
        },
        "id": "C7Jp52HLsMio",
        "outputId": "15dabc24-9b4c-46f7-8726-1ad807e3d7da"
      },
      "source": [
        "plt.xlabel('delta')\n",
        "plt.ylabel('error')\n",
        "plt.xlim( 0, max(error_list[3]) * 1.1 )\n",
        "plt.ylim( 0, max(error_list[1]) * 1.1 )\n",
        "\n",
        "plt.plot(error_list[3], error_list[1], color='g')"
      ],
      "execution_count": 13,
      "outputs": [
        {
          "output_type": "execute_result",
          "data": {
            "text/plain": [
              "[<matplotlib.lines.Line2D at 0x21331749e20>]"
            ]
          },
          "metadata": {},
          "execution_count": 13
        },
        {
          "output_type": "display_data",
          "data": {
            "text/plain": [
              "<Figure size 432x288 with 1 Axes>"
            ],
            "image/png": "[encoded data removed]"
          },
          "metadata": {}
        }
      ]
    },
    {
      "cell_type": "code",
      "metadata": {
        "id": "JstgZp3jvStD"
      },
      "source": [
        "# 3. Создайте функцию `calc_pred_proba`, возвращающую предсказанную вероятность класса 1 (на вход подаются значения признаков Х и веса, \n",
        "# которые уже посчитаны функцией `eval_LR_model`, на выходе - массив `y_pred_proba`)"
      ],
      "execution_count": 14,
      "outputs": []
    },
    {
      "cell_type": "code",
      "metadata": {
        "id": "0LHTtWApvud4"
      },
      "source": [
        "def calc_pred_proba(X, w):\n",
        "    X_st[:, 2] = standard_scaler(X[:, 2])\n",
        "    y_pred = sigmoid(np.dot(X_st, w))\n",
        "    return y_pred"
      ],
      "execution_count": 15,
      "outputs": []
    },
    {
      "cell_type": "code",
      "metadata": {
        "colab": {
          "base_uri": "https://localhost:8080/"
        },
        "id": "tfMnak3RwIBl",
        "outputId": "9d0dd753-13d0-4061-e88a-dd002fbb94ae"
      },
      "source": [
        "y_pred_proba = calc_pred_proba(X, w).round(2)\n",
        "y_pred_proba"
      ],
      "execution_count": 16,
      "outputs": [
        {
          "output_type": "execute_result",
          "data": {
            "text/plain": [
              "array([0.19, 0.  , 1.  , 0.  , 1.  , 0.02, 1.  , 0.01, 0.81, 1.  ])"
            ]
          },
          "metadata": {},
          "execution_count": 16
        }
      ]
    },
    {
      "cell_type": "code",
      "metadata": {
        "id": "SP15gCHQwbcT"
      },
      "source": [
        "# 4. Создайте функцию `calc_pred`, возвращающую предсказанный класс (на вход подаются значения признаков `Х` и веса, \n",
        "# которые уже посчитаны функцией `eval_LR_model`, на выходе - массив `y_pred`)"
      ],
      "execution_count": 17,
      "outputs": []
    },
    {
      "cell_type": "code",
      "metadata": {
        "id": "JXuEOVKTwfdJ"
      },
      "source": [
        "def calc_pred(X, w, threshold = 0.5):\n",
        "    X_st[:, 2] = standard_scaler(X[:, 2])\n",
        "    y_pred = sigmoid(np.dot(X_st, w))\n",
        "    for i in range(len(y_pred)):\n",
        "        y_pred[i] = 1 if y_pred[i] > threshold else 0\n",
        "    y_pred = np.array(list(map(int, y_pred)))\n",
        "    return y_pred"
      ],
      "execution_count": 18,
      "outputs": []
    },
    {
      "cell_type": "code",
      "metadata": {
        "colab": {
          "base_uri": "https://localhost:8080/"
        },
        "id": "0VEeygMR0Ny5",
        "outputId": "b39a4ee7-6146-4c31-a45a-e80e851b9c3b"
      },
      "source": [
        "y_pred = calc_pred(X, w, 0.9)\n",
        "print(f\"y_pred = {y_pred}\\ny      = {y}\") "
      ],
      "execution_count": 19,
      "outputs": [
        {
          "output_type": "stream",
          "name": "stdout",
          "text": [
            "y_pred = [0 0 1 0 1 0 1 0 0 1]\n",
            "y      = [0 0 1 0 1 0 1 0 1 1]\n"
          ]
        }
      ]
    },
    {
      "cell_type": "code",
      "metadata": {
        "id": "VoBObrtR0jOa"
      },
      "source": [
        "# 5. Посчитайте accuracy, матрицу ошибок, precision и recall, а также F1-score"
      ],
      "execution_count": 20,
      "outputs": []
    },
    {
      "cell_type": "code",
      "metadata": {
        "colab": {
          "base_uri": "https://localhost:8080/"
        },
        "id": "MBCOV5le18TZ",
        "outputId": "5aea7c22-9df4-404a-924a-10afe52ef866"
      },
      "source": [
        "true_y_pred = 0\n",
        "for i in range(len(y_pred)):\n",
        "    true_y_pred += int(not(y_pred[i] ^ y[i]))\n",
        "accuracy = true_y_pred / len(y_pred)\n",
        "accuracy"
      ],
      "execution_count": 21,
      "outputs": [
        {
          "output_type": "execute_result",
          "data": {
            "text/plain": [
              "0.9"
            ]
          },
          "metadata": {},
          "execution_count": 21
        }
      ]
    },
    {
      "cell_type": "code",
      "metadata": {
        "colab": {
          "base_uri": "https://localhost:8080/"
        },
        "id": "A--YnNb18Dpa",
        "outputId": "8ba27361-a5cf-4096-a851-2c469769c632"
      },
      "source": [
        "TP = FP = TN = FN = 0\n",
        "for i in range(len(y_pred)):\n",
        "    if y_pred[i] == 1 and y[i] == 1:\n",
        "        TP += 1\n",
        "    if y_pred[i] == 0 and y[i] == 0:\n",
        "        FP += 1\n",
        "    if y_pred[i] == 1 and y[i] == 0:\n",
        "        TN += 1\n",
        "    if y_pred[i] == 0 and y[i] == 1:\n",
        "        FN += 1\n",
        "print(f\"TP = {np.round(TP, 2)}, FP = {np.round(FP, 2)}\\nTN = {np.round(TN, 2)}, FP = {np.round(FP, 2)}\")"
      ],
      "execution_count": 22,
      "outputs": [
        {
          "output_type": "stream",
          "name": "stdout",
          "text": [
            "TP = 4, FP = 5\n",
            "TN = 0, FP = 5\n"
          ]
        }
      ]
    },
    {
      "cell_type": "code",
      "metadata": {
        "colab": {
          "base_uri": "https://localhost:8080/"
        },
        "id": "SqpU_zVCChxo",
        "outputId": "e2996303-4bf1-423e-c7fa-c26181eaa61c"
      },
      "source": [
        "precision = TP / (TP + FP)\n",
        "recall = TP / (TP + FN)\n",
        "F1_score = 2 * precision * recall / (precision + recall)\n",
        "print(f\"precision = {np.round(precision, 2)}\\nrecall = {np.round(recall, 2)}\\nF1_score = {np.round(F1_score, 2)}\")"
      ],
      "execution_count": 23,
      "outputs": [
        {
          "output_type": "stream",
          "name": "stdout",
          "text": [
            "precision = 0.44\n",
            "recall = 0.8\n",
            "F1_score = 0.57\n"
          ]
        }
      ]
    },
    {
      "cell_type": "markdown",
      "metadata": {
        "id": "0_RO065yDvG4"
      },
      "source": [
        "6. Могла ли модель переобучиться? Почему?\n",
        "\n",
        "Да, модель может переобучиться т.к. в обучении участвует вся выборка. Веса признаков находятся примерно в одном масштабе, что говорит о не сильном переобучении. Опять же, чтобы это проверить, требуется больше данных."
      ]
    },
    {
      "cell_type": "code",
      "metadata": {
        "colab": {
          "base_uri": "https://localhost:8080/"
        },
        "id": "7_OUKamOEXFB",
        "outputId": "efb5e778-ea6c-4074-ae03-dce3e76c1a2a"
      },
      "source": [
        "w"
      ],
      "execution_count": 24,
      "outputs": [
        {
          "output_type": "execute_result",
          "data": {
            "text/plain": [
              "array([-126.19099893,  -15.46048104,  -28.56198753,  112.19995289])"
            ]
          },
          "metadata": {},
          "execution_count": 24
        }
      ]
    }
  ]
}