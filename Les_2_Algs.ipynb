{
  "nbformat": 4,
  "nbformat_minor": 0,
  "metadata": {
    "colab": {
      "name": "Les_2 Algs.ipynb",
      "provenance": [],
      "collapsed_sections": [],
      "authorship_tag": "ABX9TyMI/tXeJz7/PfFqAMC+Ly/4",
      "include_colab_link": true
    },
    "kernelspec": {
      "name": "python3",
      "display_name": "Python 3"
    },
    "language_info": {
      "name": "python"
    }
  },
  "cells": [
    {
      "cell_type": "markdown",
      "metadata": {
        "id": "view-in-github",
        "colab_type": "text"
      },
      "source": [
        "<a href=\"https://colab.research.google.com/github/StrizhAXE/DataAlgoritm/blob/main/Les_2_Algs.ipynb\" target=\"_parent\"><img src=\"https://colab.research.google.com/assets/colab-badge.svg\" alt=\"Open In Colab\"/></a>"
      ]
    },
    {
      "cell_type": "markdown",
      "metadata": {
        "id": "3IqoR8jeOzix"
      },
      "source": [
        "1. Сгенерировать датасет при помощи `sklearn.datasets.make_regression` и обучить линейную модель при помощи градиентного спуска и стохастического градиентного спуска. Построить графики среднеквадратичной ошибки от числа итераций для обоих методов на одном рисунке, сделать выводы о разнице скорости сходимости каждого из методов."
      ]
    },
    {
      "cell_type": "code",
      "metadata": {
        "id": "AqBA87HWQgiY"
      },
      "source": [
        "import numpy as np\n",
        "import matplotlib.pyplot as plt\n",
        "from sklearn import datasets\n",
        "\n",
        "plt.rcParams.update({'font.size': 14,\n",
        "                     'xtick.labelsize': 14})"
      ],
      "execution_count": 1,
      "outputs": []
    },
    {
      "cell_type": "code",
      "metadata": {
        "id": "9Sn26mJQN4oP"
      },
      "source": [
        "X, y, coef = datasets.make_regression(n_samples=100, \n",
        "                                      n_features=2, \n",
        "                                      n_informative=2, \n",
        "                                      n_targets=1,\n",
        "                                      noise=5, \n",
        "                                      coef=True, \n",
        "                                      random_state=42)"
      ],
      "execution_count": 2,
      "outputs": []
    },
    {
      "cell_type": "code",
      "metadata": {
        "id": "Pg8VNDrfsXGF"
      },
      "source": [
        "def calc_mse(y, y_pred):\n",
        "    err = np.mean((y - y_pred)**2)\n",
        "    return err"
      ],
      "execution_count": 3,
      "outputs": []
    },
    {
      "cell_type": "code",
      "metadata": {
        "colab": {
          "base_uri": "https://localhost:8080/"
        },
        "id": "hnpNx4nbsBiZ",
        "outputId": "020e4fa5-4edd-4605-c89c-f62c96ffa6d7"
      },
      "source": [
        "%%time\n",
        "y_pred = np.dot(X, coef)\n",
        "err = calc_mse(y, y_pred)\n",
        "print(f'MSE для коэф из датасета \\t- {err}\\n')"
      ],
      "execution_count": 4,
      "outputs": [
        {
          "output_type": "stream",
          "name": "stdout",
          "text": [
            "MSE для коэф из датасета \t- 29.34274108679351\n",
            "\n",
            "Wall time: 1e+03 µs\n"
          ]
        }
      ]
    },
    {
      "cell_type": "code",
      "metadata": {
        "id": "1OV1kcwwQ5Wy"
      },
      "source": [
        "## Градиентный спуск (Gradient Descent, GD)\n",
        "def eval_GD(X, y, iterations, alpha=1e-4):\n",
        "    np.random.seed(42)\n",
        "    w = np.random.randn(X.shape[1])\n",
        "    n = X.shape[0]\n",
        "    GD_err_list = []\n",
        "    for i in range(1, iterations + 1):\n",
        "        y_pred = np.dot(X, w)\n",
        "        err = calc_mse(y, y_pred)\n",
        "        w -= alpha * (1/n * 2 * np.dot((y_pred - y), X))\n",
        "        GD_err_list.insert(i - 1, err)\n",
        "        if i % (iterations / 5) == 0:\n",
        "            print(i, w, err)\n",
        "    return w, GD_err_list"
      ],
      "execution_count": 5,
      "outputs": []
    },
    {
      "cell_type": "code",
      "metadata": {
        "id": "gCufkUAkR5Sb"
      },
      "source": [
        "## Стохастический градиентный спуск (Stochastic Gradient Descent, SGD)\n",
        "# mini-batch GD & SGD (qty_in_batch=1)\n",
        "def eval_SGD(X, y, iterations, qty_in_batch=1, alpha=1e-4):\n",
        "    np.random.seed(42)\n",
        "    w = np.random.randn(X.shape[1])\n",
        "    n = X.shape[0] # число наблюдений\n",
        "    n_batch = n // qty_in_batch\n",
        "    SGD_err_list = []\n",
        "    if n % qty_in_batch != 0:\n",
        "        n_batch += 1\n",
        "    # print(n_batch)\n",
        "    for i in range(1, iterations + 1):\n",
        "        for b in range(n_batch):\n",
        "            start_ = qty_in_batch * b\n",
        "            end_ = qty_in_batch * (b + 1)\n",
        "            X_tmp = X[start_ : end_, :]\n",
        "            y_tmp = y[start_ : end_]\n",
        "            y_pred_tmp = np.dot(X_tmp, w)\n",
        "            err = calc_mse(y_tmp, y_pred_tmp)\n",
        "            w -= alpha * (1/n * 2 * np.dot((y_pred_tmp - y_tmp), X_tmp))\n",
        "        SGD_err_list.insert(i - 1, err)\n",
        "        if i % (iterations / 5) == 0:\n",
        "            print(i, w, err)\n",
        "    return w, SGD_err_list"
      ],
      "execution_count": 6,
      "outputs": []
    },
    {
      "cell_type": "code",
      "metadata": {
        "colab": {
          "base_uri": "https://localhost:8080/"
        },
        "id": "LtGoTIv5UH39",
        "outputId": "9e720310-c9c7-4ba8-caf7-c84409456418"
      },
      "source": [
        "%%time\n",
        "\n",
        "w_gd, GD_err_list = eval_GD(X, y, iterations=3000, alpha=1e-3)\n",
        "y_pred = np.dot(X, w_gd)\n",
        "err_gd = calc_mse(y, y_pred)\n",
        "print(f'MSE для метода градиентного спуска - {err_gd}\\n')"
      ],
      "execution_count": 7,
      "outputs": [
        {
          "output_type": "stream",
          "name": "stdout",
          "text": [
            "600 [52.0435046  52.32250207] 1433.9012519426624\n",
            "1200 [72.73992955 67.80706573] 219.9727169827603\n",
            "1800 [81.105593   72.32264247] 56.87946576694009\n",
            "2400 [84.50452903 73.61611991] 33.141210204793296\n",
            "3000 [85.8909253  73.97658891] 29.47208109986519\n",
            "MSE для метода градиентного спуска - 29.469951811724275\n",
            "\n",
            "Wall time: 111 ms\n"
          ]
        }
      ]
    },
    {
      "cell_type": "code",
      "metadata": {
        "colab": {
          "base_uri": "https://localhost:8080/"
        },
        "id": "jB_tcMunVsCe",
        "outputId": "8302123b-c5bd-4931-a322-dec01fa8b778"
      },
      "source": [
        "%%time\n",
        "\n",
        "w_sgd, SGD_err_list = eval_SGD(X, y, iterations=3000, qty_in_batch=1, alpha=1e-3) \n",
        "y_pred = np.dot(X, w_sgd)\n",
        "err_sgd = calc_mse(y, y_pred)\n",
        "print(f'MSE для метода стохастического градиентного спуска - {err_gd}\\n')"
      ],
      "execution_count": 8,
      "outputs": [
        {
          "output_type": "stream",
          "name": "stdout",
          "text": [
            "600 [52.02076565 52.29546264] 458.13369724494237\n",
            "1200 [72.72165257 67.7909023 ] 15.282837471545294\n",
            "1800 [81.09447128 72.3154127 ] 3.2546606854516744\n",
            "2400 [84.49845318 73.61322904] 13.715115447908913\n",
            "3000 [85.8877718  73.97546854] 18.90221963667335\n",
            "MSE для метода стохастического градиентного спуска - 29.469951811724275\n",
            "\n",
            "Wall time: 4.45 s\n"
          ]
        }
      ]
    },
    {
      "cell_type": "code",
      "metadata": {
        "colab": {
          "base_uri": "https://localhost:8080/",
          "height": 311
        },
        "id": "U7LPrgdEYM-0",
        "outputId": "f00dc295-5756-4e1e-b4b8-c92d1a69fc42"
      },
      "source": [
        "plt.xlabel('Iteration')\n",
        "plt.ylabel('MSE')\n",
        "plt.xlim( 0, 3000 )\n",
        "plt.ylim( 0, 3000 )\n",
        "\n",
        "plt.plot(range(len(GD_err_list)), GD_err_list, color='g')\n",
        "plt.plot(range(len(SGD_err_list)), SGD_err_list, color='r')\n"
      ],
      "execution_count": 9,
      "outputs": [
        {
          "output_type": "execute_result",
          "data": {
            "text/plain": [
              "[<matplotlib.lines.Line2D at 0x27d3183edf0>]"
            ]
          },
          "metadata": {},
          "execution_count": 9
        },
        {
          "output_type": "display_data",
          "data": {
            "text/plain": [
              "<Figure size 432x288 with 1 Axes>"
            ],
            "image/png": "[encoded data removed]"
          },
          "metadata": {
            "needs_background": "light"
          }
        }
      ]
    },
    {
      "cell_type": "markdown",
      "metadata": {
        "id": "HQLUZesgf75o"
      },
      "source": [
        "Вывод: Стохастический градиентный спуск (красная линия) сходится за меньшее количесво итераций."
      ]
    },
    {
      "cell_type": "markdown",
      "metadata": {
        "id": "p5eNllp8Rhlq"
      },
      "source": [
        "2. Модифицировать решение первого задания путем добавления L2 регуляризации и сравнить результаты.  "
      ]
    },
    {
      "cell_type": "code",
      "metadata": {
        "id": "k7qSeQ0kSECf"
      },
      "source": [
        "# Метод градиентного спуска  + L2\n",
        "def eval_GD_reg2(X, y, iterations, alpha=1e-4, lambda_=1e-8):\n",
        "    np.random.seed(42)\n",
        "    w = np.random.randn(X.shape[1])\n",
        "    n = X.shape[0]\n",
        "    GD_err_list = []\n",
        "    for i in range(1, iterations + 1):\n",
        "        y_pred = np.dot(X, w)\n",
        "        err = calc_mse(y, y_pred)\n",
        "        w -= alpha * (1/n * 2 * np.dot((y_pred - y), X) + 2 * lambda_ * w)\n",
        "        GD_err_list.insert(i - 1, err)\n",
        "#        if i % (iterations / 5) == 0:\n",
        "#            print(i, w, err)\n",
        "    return w, GD_err_list"
      ],
      "execution_count": 10,
      "outputs": []
    },
    {
      "cell_type": "code",
      "metadata": {
        "id": "leFd4s7nSECg"
      },
      "source": [
        "## Стохастический градиентный спуск (Stochastic Gradient Descent, SGD)  + L2\n",
        "# mini-batch GD & SGD (qty_in_batch=1)\n",
        "def eval_SGD_reg2(X, y, iterations, qty_in_batch=1, alpha=1e-4, lambda_=1e-8):\n",
        "    np.random.seed(42)\n",
        "    w = np.random.randn(X.shape[1])\n",
        "    n = X.shape[0] # число наблюдений\n",
        "    n_batch = n // qty_in_batch\n",
        "    SGD_err_list = []\n",
        "    if n % qty_in_batch != 0:\n",
        "        n_batch += 1\n",
        "    # print(n_batch)\n",
        "    for i in range(1, iterations + 1):\n",
        "        for b in range(n_batch):\n",
        "            start_ = qty_in_batch * b\n",
        "            end_ = qty_in_batch * (b + 1)\n",
        "            X_tmp = X[start_ : end_, :]\n",
        "            y_tmp = y[start_ : end_]\n",
        "            y_pred_tmp = np.dot(X_tmp, w)\n",
        "            err = calc_mse(y_tmp, y_pred_tmp)\n",
        "            w -= alpha * (1/n * 2 * np.dot((y_pred_tmp - y_tmp), X_tmp) + 2 * lambda_ * w)\n",
        "        SGD_err_list.insert(i - 1, err)\n",
        "        if i % (iterations / 5) == 0:\n",
        "            print(i, w, err)\n",
        "    return w, SGD_err_list"
      ],
      "execution_count": 11,
      "outputs": []
    },
    {
      "cell_type": "code",
      "metadata": {
        "colab": {
          "base_uri": "https://localhost:8080/"
        },
        "id": "s0HPODQPTKzF",
        "outputId": "b8ec82d3-d272-46da-83dd-97176fe843ac"
      },
      "source": [
        "%%time\n",
        "\n",
        "w_gd_L2, GD_err_list_L2 = eval_GD_reg2(X, y, iterations=3000, alpha=1e-3, lambda_=1e-3)\n",
        "y_pred = np.dot(X, w_gd_L2)\n",
        "err_gd = calc_mse(y, y_pred)\n",
        "print(f'MSE для метода градиентного спуска - {err_gd}\\n')"
      ],
      "execution_count": 12,
      "outputs": [
        {
          "output_type": "stream",
          "name": "stdout",
          "text": [
            "MSE для метода градиентного спуска - 29.65892162898892\n",
            "\n",
            "Wall time: 129 ms\n"
          ]
        }
      ]
    },
    {
      "cell_type": "code",
      "metadata": {
        "colab": {
          "base_uri": "https://localhost:8080/"
        },
        "id": "bDozRYC7TKzG",
        "outputId": "0a3793fe-a603-4e81-f81c-cb6e1b5f8799"
      },
      "source": [
        "%%time\n",
        "\n",
        "w_sgd_L2, SGD_err_list_L2 = eval_SGD_reg2(X, y, iterations=3000, qty_in_batch=1, alpha=1e-3, lambda_=1e-3) \n",
        "y_pred = np.dot(X, w_sgd_L2)\n",
        "err_sgd = calc_mse(y, y_pred)\n",
        "print(f'MSE для метода стохастического градиентного спуска - {err_gd}\\n')"
      ],
      "execution_count": 13,
      "outputs": [
        {
          "output_type": "stream",
          "name": "stdout",
          "text": [
            "600 [49.45003441 49.86838708] 574.5427361804228\n",
            "1200 [66.8923087  62.97707153] 84.41520167196907\n",
            "1800 [73.1488935  66.37246304] 24.079968181540774\n",
            "2400 [75.40475278 67.23650399] 13.2884218709175\n",
            "3000 [76.2213196  67.45049109] 10.665522716068535\n",
            "MSE для метода стохастического градиентного спуска - 29.65892162898892\n",
            "\n",
            "Wall time: 4.43 s\n"
          ]
        }
      ]
    },
    {
      "cell_type": "code",
      "metadata": {
        "colab": {
          "base_uri": "https://localhost:8080/",
          "height": 311
        },
        "id": "v_YuM0MvTKzH",
        "outputId": "49f7fd7d-2857-4660-a06d-cc03fd4d6a06"
      },
      "source": [
        "plt.xlabel('Iteration')\n",
        "plt.ylabel('MSE')\n",
        "plt.xlim( 0, 3000 )\n",
        "plt.ylim( 0, 3000 )\n",
        "\n",
        "plt.plot(range(len(GD_err_list_L2)), GD_err_list_L2, '--', color='g')\n",
        "plt.plot(range(len(SGD_err_list_L2)), SGD_err_list_L2, '--', color='r')\n",
        "plt.plot(range(len(GD_err_list)), GD_err_list, color='g')\n",
        "plt.plot(range(len(SGD_err_list)), SGD_err_list, color='r')\n"
      ],
      "execution_count": 14,
      "outputs": [
        {
          "output_type": "execute_result",
          "data": {
            "text/plain": [
              "[<matplotlib.lines.Line2D at 0x27d3295b2e0>]"
            ]
          },
          "metadata": {},
          "execution_count": 14
        },
        {
          "output_type": "display_data",
          "data": {
            "text/plain": [
              "<Figure size 432x288 with 1 Axes>"
            ],
            "image/png": "[encoded data removed]"
          },
          "metadata": {
            "needs_background": "light"
          }
        }
      ]
    },
    {
      "cell_type": "markdown",
      "metadata": {
        "id": "EzFM_r2bUl14"
      },
      "source": [
        "Добавив L2 регуляризацию, веса при бОльшем коэффициенте lambda становятся равнее друг другу. При этом ухудшается сходимость у стахостического метода (пунктирная линия)."
      ]
    },
    {
      "cell_type": "markdown",
      "metadata": {
        "id": "BWtdyWwWVaD0"
      },
      "source": [
        "3. [\\*] Модернизировать решение задания 2, заменив L2 регуляризацию на L1 регуляризацию."
      ]
    },
    {
      "cell_type": "code",
      "metadata": {
        "id": "h-v4-ViVVec4"
      },
      "source": [
        "# Метод градиентного спуска + L1\n",
        "def eval_GD_reg1(X, y, iterations, alpha=1e-4, lambda_=1e-8):\n",
        "    np.random.seed(42)\n",
        "    w = np.random.randn(X.shape[1])\n",
        "    n = X.shape[0]\n",
        "    GD_err_list = []\n",
        "    for i in range(1, iterations + 1):\n",
        "        y_pred = np.dot(X, w)\n",
        "        err = calc_mse(y, y_pred)\n",
        "        w -= alpha * (1/n * 2 * np.dot((y_pred - y), X) + lambda_ * w / abs(w))\n",
        "        GD_err_list.insert(i - 1, err)\n",
        "#        if i % (iterations / 5) == 0:\n",
        "#            print(i, w, err)\n",
        "    return w, GD_err_list"
      ],
      "execution_count": 15,
      "outputs": []
    },
    {
      "cell_type": "code",
      "metadata": {
        "id": "uo3OyIDFVec5"
      },
      "source": [
        "## Стохастический градиентный спуск (Stochastic Gradient Descent, SGD)  + L1\n",
        "# mini-batch GD & SGD (qty_in_batch=1)\n",
        "def eval_SGD_reg1(X, y, iterations, qty_in_batch=1, alpha=1e-4, lambda_=1e-8):\n",
        "    np.random.seed(42)\n",
        "    w = np.random.randn(X.shape[1])\n",
        "    n = X.shape[0] # число наблюдений\n",
        "    n_batch = n // qty_in_batch\n",
        "    SGD_err_list = []\n",
        "    if n % qty_in_batch != 0:\n",
        "        n_batch += 1\n",
        "    # print(n_batch)\n",
        "    for i in range(1, iterations + 1):\n",
        "        for b in range(n_batch):\n",
        "            start_ = qty_in_batch * b\n",
        "            end_ = qty_in_batch * (b + 1)\n",
        "            X_tmp = X[start_ : end_, :]\n",
        "            y_tmp = y[start_ : end_]\n",
        "            y_pred_tmp = np.dot(X_tmp, w)\n",
        "            err = calc_mse(y_tmp, y_pred_tmp)\n",
        "            w -= alpha * (1/n * 2 * np.dot((y_pred_tmp - y_tmp), X_tmp) + lambda_ * w / abs(w))\n",
        "        SGD_err_list.insert(i - 1, err)\n",
        "#        if i % (iterations / 5) == 0:\n",
        "#            print(i, w, err)\n",
        "    return w, SGD_err_list"
      ],
      "execution_count": 16,
      "outputs": []
    },
    {
      "cell_type": "code",
      "metadata": {
        "colab": {
          "base_uri": "https://localhost:8080/"
        },
        "id": "oP7jTjASVec5",
        "outputId": "1be43320-f7dc-46c7-e491-3bea2820584e"
      },
      "source": [
        "%%time\n",
        "\n",
        "w_gd_L1, GD_err_list_L1 = eval_GD_reg1(X, y, iterations=3000, alpha=1e-3, lambda_=1e-3)\n",
        "y_pred = np.dot(X, w_gd_L1)\n",
        "err_gd = calc_mse(y, y_pred)\n",
        "print(f'MSE для метода градиентного спуска - {err_gd}\\n')"
      ],
      "execution_count": 17,
      "outputs": [
        {
          "output_type": "stream",
          "name": "stdout",
          "text": [
            "MSE для метода градиентного спуска - 29.471027876781186\n",
            "\n",
            "Wall time: 61 ms\n"
          ]
        }
      ]
    },
    {
      "cell_type": "code",
      "metadata": {
        "colab": {
          "base_uri": "https://localhost:8080/"
        },
        "id": "FEq7omzaVec5",
        "outputId": "24865429-df08-4d15-8e7c-64e6314e39d5"
      },
      "source": [
        "%%time\n",
        "\n",
        "w_sgd_L1, SGD_err_list_L1 = eval_SGD_reg1(X, y, iterations=3000, qty_in_batch=1, alpha=1e-3, lambda_=1e-3) \n",
        "y_pred = np.dot(X, w_sgd_L1)\n",
        "err_sgd = calc_mse(y, y_pred)\n",
        "print(f'MSE для метода стохастического градиентного спуска - {err_gd}\\n')"
      ],
      "execution_count": 18,
      "outputs": [
        {
          "output_type": "stream",
          "name": "stdout",
          "text": [
            "MSE для метода стохастического градиентного спуска - 29.471027876781186\n",
            "\n",
            "Wall time: 4.93 s\n"
          ]
        }
      ]
    },
    {
      "cell_type": "code",
      "metadata": {
        "colab": {
          "base_uri": "https://localhost:8080/",
          "height": 311
        },
        "id": "l3eCu3uhVec5",
        "outputId": "79df804c-d4f4-4bd5-8501-8f307e6a93b5"
      },
      "source": [
        "plt.xlabel('Iteration')\n",
        "plt.ylabel('MSE')\n",
        "plt.xlim( 0, 3000 )\n",
        "plt.ylim( 0, 3000 )\n",
        "\n",
        "plt.plot(range(len(GD_err_list_L1)), GD_err_list_L1, '--', color='g')\n",
        "plt.plot(range(len(SGD_err_list_L1)), SGD_err_list_L1, '--', color='r')\n",
        "plt.plot(range(len(GD_err_list)), GD_err_list, color='g')\n",
        "plt.plot(range(len(SGD_err_list)), SGD_err_list, color='r')\n"
      ],
      "execution_count": 19,
      "outputs": [
        {
          "output_type": "execute_result",
          "data": {
            "text/plain": [
              "[<matplotlib.lines.Line2D at 0x27d329fbc40>]"
            ]
          },
          "metadata": {},
          "execution_count": 19
        },
        {
          "output_type": "display_data",
          "data": {
            "text/plain": [
              "<Figure size 432x288 with 1 Axes>"
            ],
            "image/png": "[encoded data removed]"
          },
          "metadata": {
            "needs_background": "light"
          }
        }
      ]
    },
    {
      "cell_type": "markdown",
      "metadata": {
        "id": "hEAT3E9IYzqH"
      },
      "source": [
        "Добавив L1 регуляризацию, веса изменяются меньше, при том же коэффициенте lambda, чем при L2 регуляризации."
      ]
    },
    {
      "cell_type": "markdown",
      "metadata": {
        "id": "j3u8gAn3Zn0b"
      },
      "source": [
        "4. [\\*] Построить график изменения весов от числа итераций при GD и SGD (на одном рисунке)."
      ]
    },
    {
      "cell_type": "code",
      "metadata": {
        "id": "hvX2PAMDZzZ2"
      },
      "source": [
        "# Метод градиентного спуска\n",
        "def eval_GD_reg1(X, y, iterations, alpha=1e-4, lambda_=1e-8):\n",
        "    np.random.seed(42)\n",
        "    w = np.random.randn(X.shape[1])\n",
        "    n = X.shape[0]\n",
        "    GD_ws = []\n",
        "    for i in range(1, iterations + 1):\n",
        "        y_pred = np.dot(X, w)\n",
        "        err = calc_mse(y, y_pred)\n",
        "        w -= alpha * (1/n * 2 * np.dot((y_pred - y), X) + lambda_ * w / abs(w))\n",
        "        GD_ws.extend(w)\n",
        "#        if i % (iterations / 5) == 0:\n",
        "#            print(i, w, err)\n",
        "    return w, GD_ws"
      ],
      "execution_count": 20,
      "outputs": []
    },
    {
      "cell_type": "code",
      "metadata": {
        "id": "6EVSedxjZzZ2"
      },
      "source": [
        "## Стохастический градиентный спуск (Stochastic Gradient Descent, SGD)\n",
        "# mini-batch GD & SGD (qty_in_batch=1)\n",
        "def eval_SGD_reg1(X, y, iterations, qty_in_batch=1, alpha=1e-4, lambda_=1e-8):\n",
        "    np.random.seed(42)\n",
        "    w = np.random.randn(X.shape[1])\n",
        "    n = X.shape[0] # число наблюдений\n",
        "    n_batch = n // qty_in_batch\n",
        "    SGD_ws = []\n",
        "    if n % qty_in_batch != 0:\n",
        "        n_batch += 1\n",
        "    # print(n_batch)\n",
        "    for i in range(1, iterations + 1):\n",
        "        for b in range(n_batch):\n",
        "            start_ = qty_in_batch * b\n",
        "            end_ = qty_in_batch * (b + 1)\n",
        "            X_tmp = X[start_ : end_, :]\n",
        "            y_tmp = y[start_ : end_]\n",
        "            y_pred_tmp = np.dot(X_tmp, w)\n",
        "            err = calc_mse(y_tmp, y_pred_tmp)\n",
        "            w -= alpha * (1/n * 2 * np.dot((y_pred_tmp - y_tmp), X_tmp) + lambda_ * w / abs(w))\n",
        "        SGD_ws.extend(w)\n",
        "        if i % (iterations / 5) == 0:\n",
        "            print(i, w, err)\n",
        "    return w, SGD_ws"
      ],
      "execution_count": 21,
      "outputs": []
    },
    {
      "cell_type": "code",
      "metadata": {
        "colab": {
          "base_uri": "https://localhost:8080/"
        },
        "id": "-VNyiW2eZzZ2",
        "outputId": "d7d94acb-65e4-41f9-d158-88cb62973220"
      },
      "source": [
        "%%time\n",
        "\n",
        "w_gd_L1, GD_ws = eval_GD_reg1(X, y, iterations=3000, alpha=1e-2, lambda_=1e-3)\n",
        "y_pred = np.dot(X, w_gd_L1)\n",
        "err_gd = calc_mse(y, y_pred)\n",
        "print(f'MSE для метода градиентного спуска - {err_gd}\\n')"
      ],
      "execution_count": 22,
      "outputs": [
        {
          "output_type": "stream",
          "name": "stdout",
          "text": [
            "MSE для метода градиентного спуска - 28.76491153675767\n",
            "\n",
            "Wall time: 138 ms\n"
          ]
        }
      ]
    },
    {
      "cell_type": "code",
      "metadata": {
        "colab": {
          "base_uri": "https://localhost:8080/"
        },
        "id": "UuoQWMMdZzZ3",
        "outputId": "c96dab89-9956-4924-c824-e1f2fe72f94e"
      },
      "source": [
        "%%time\n",
        "\n",
        "w_sgd_L1, SGD_ws = eval_SGD_reg1(X, y, iterations=3000, qty_in_batch=1, alpha=1e-3, lambda_=1e-3) \n",
        "y_pred = np.dot(X, w_sgd_L1)\n",
        "err_sgd = calc_mse(y, y_pred)\n",
        "print(f'MSE для метода стохастического градиентного спуска - {err_gd}\\n')"
      ],
      "execution_count": 23,
      "outputs": [
        {
          "output_type": "stream",
          "name": "stdout",
          "text": [
            "600 [51.98141302 52.26082289] 459.73220357352074\n",
            "1200 [72.66643682 67.74602322] 15.671810287973884\n",
            "1800 [81.03282306 72.26756568] 3.0647366540474335\n",
            "2400 [84.43418475 73.5645401 ] 13.312459540019232\n",
            "3000 [85.82243237 73.92654873] 18.425052904229126\n",
            "MSE для метода стохастического градиентного спуска - 28.76491153675767\n",
            "\n",
            "Wall time: 4.86 s\n"
          ]
        }
      ]
    },
    {
      "cell_type": "code",
      "metadata": {
        "colab": {
          "base_uri": "https://localhost:8080/",
          "height": 311
        },
        "id": "fyt89t0xZzZ3",
        "outputId": "d23774db-ccdf-4fd2-fe79-ba2e8de34f62"
      },
      "source": [
        "plt.xlabel('Iteration')\n",
        "plt.ylabel('Weight')\n",
        "plt.xlim( 0, 3000 )\n",
        "plt.ylim( 0, 100 )\n",
        "\n",
        "plt.plot(range(int(len(GD_ws) / 2)), GD_ws[::2], color='g')\n",
        "plt.plot(range(int(len(GD_ws) / 2)), GD_ws[1::2], '--', color='g')\n",
        "plt.plot(range(int(len(SGD_ws) / 2)), SGD_ws[::2], color='r')\n",
        "plt.plot(range(int(len(SGD_ws) / 2)), SGD_ws[1::2], '--', color='r')"
      ],
      "execution_count": 24,
      "outputs": [
        {
          "output_type": "execute_result",
          "data": {
            "text/plain": [
              "[<matplotlib.lines.Line2D at 0x27d32ad48e0>]"
            ]
          },
          "metadata": {},
          "execution_count": 24
        },
        {
          "output_type": "display_data",
          "data": {
            "text/plain": [
              "<Figure size 432x288 with 1 Axes>"
            ],
            "image/png": "[encoded data removed]"
          },
          "metadata": {
            "needs_background": "light"
          }
        }
      ]
    },
    {
      "cell_type": "markdown",
      "metadata": {
        "id": "3MPFKEtthu28"
      },
      "source": [
        "Для наглядности для градиентного спуска (зеленые линии) alpha=1e-2, для стахостического гр. спуска (красные линии) alpha=1e-3. "
      ]
    },
    {
      "cell_type": "markdown",
      "metadata": {
        "id": "GHDz-xhHiMpJ"
      },
      "source": [
        "5. [\\*] Построить график изменения весов для L1 и L2 регуляризации от коэффициента регуляризации."
      ]
    },
    {
      "cell_type": "code",
      "metadata": {
        "colab": {
          "base_uri": "https://localhost:8080/"
        },
        "id": "tqu8eui8icuO",
        "outputId": "1e39c310-d6f0-4091-97f7-a9f6b09baa5d"
      },
      "source": [
        "%%time\n",
        "ws1_list = []\n",
        "ws2_list = []\n",
        "for i in range(0, 100):\n",
        "  w_gd_L1, GD_ws = eval_GD_reg1(X, y, iterations=500, alpha=1e-2, lambda_= i)\n",
        "  w_gd_L2, GD_ws = eval_GD_reg2(X, y, iterations=500, alpha=1e-2, lambda_= i)\n",
        "  ws1_list.extend(w_gd_L1)\n",
        "  ws2_list.extend(w_gd_L2)"
      ],
      "execution_count": 25,
      "outputs": [
        {
          "output_type": "stream",
          "name": "stdout",
          "text": [
            "Wall time: 1.75 s\n"
          ]
        }
      ]
    },
    {
      "cell_type": "code",
      "metadata": {
        "colab": {
          "base_uri": "https://localhost:8080/",
          "height": 293
        },
        "id": "B2cErLlrig3R",
        "outputId": "fc507feb-1852-45a9-c7a4-9f448ce5bdb0"
      },
      "source": [
        "plt.xlabel('lambda')\n",
        "plt.ylabel('Weight')\n",
        "plt.xlim( 0, 100 )\n",
        "plt.ylim( 0, 100 )\n",
        "\n",
        "plt.plot(range(int(len(ws1_list) / 2)), ws1_list[::2], color='g', label='L1')\n",
        "plt.plot(range(int(len(ws1_list) / 2)), ws1_list[1::2], '--', color='g')\n",
        "plt.plot(range(int(len(ws2_list) / 2)), ws2_list[::2], color='r', label='L2')\n",
        "plt.plot(range(int(len(ws2_list) / 2)), ws2_list[1::2], '--', color='r')\n",
        "plt.legend();"
      ],
      "execution_count": 26,
      "outputs": [
        {
          "output_type": "display_data",
          "data": {
            "text/plain": [
              "<Figure size 432x288 with 1 Axes>"
            ],
            "image/png": "[encoded data removed]"
          },
          "metadata": {
            "needs_background": "light"
          }
        }
      ]
    }
  ]
}