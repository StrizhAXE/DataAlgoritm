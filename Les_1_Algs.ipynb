{
  "nbformat": 4,
  "nbformat_minor": 0,
  "metadata": {
    "colab": {
      "name": "Les_1 Algs.ipynb",
      "provenance": [],
      "collapsed_sections": [],
      "authorship_tag": "ABX9TyOWUvhzlbThV+m8hPQKAyD4",
      "include_colab_link": true
    },
    "kernelspec": {
      "name": "python3",
      "display_name": "Python 3"
    },
    "language_info": {
      "name": "python"
    }
  },
  "cells": [
    {
      "cell_type": "markdown",
      "metadata": {
        "id": "view-in-github",
        "colab_type": "text"
      },
      "source": [
        "<a href=\"https://colab.research.google.com/github/StrizhAXE/DataAlgoritm/blob/main/Les_1_Algs.ipynb\" target=\"_parent\"><img src=\"https://colab.research.google.com/assets/colab-badge.svg\" alt=\"Open In Colab\"/></a>"
      ]
    },
    {
      "cell_type": "markdown",
      "metadata": {
        "id": "U4M4fYZvwAY4"
      },
      "source": [
        "### Домашние задания"
      ]
    },
    {
      "cell_type": "markdown",
      "metadata": {
        "id": "huXrhXQsZTMt"
      },
      "source": [
        "1. Подберите скорость обучения (alpha) и количество итераций для градиентного спуска (до совпадения ответов с результатами МНК). Как влияют друг на друга эти два параметра?"
      ]
    },
    {
      "cell_type": "code",
      "metadata": {
        "id": "DCIhQx7GjS80"
      },
      "source": [
        "import numpy as np"
      ],
      "execution_count": 1,
      "outputs": []
    },
    {
      "cell_type": "code",
      "metadata": {
        "id": "55zWesA4jg9L"
      },
      "source": [
        "def calc_mse(y, y_pred):\n",
        "    err = np.mean((y - y_pred)**2)\n",
        "    return err\n",
        "\n",
        "def calc_mae(y, y_pred):\n",
        "    err = np.mean(np.abs(y - y_pred))\n",
        "    return err"
      ],
      "execution_count": 2,
      "outputs": []
    },
    {
      "cell_type": "code",
      "metadata": {
        "id": "NXrnXVCbjZcG"
      },
      "source": [
        "X = np.array([[1, 1, 1, 1, 1, 1, 1, 1, 1, 1],   # для умножения на intercept\n",
        "              [1, 1, 2, 1, 3, 0, 5, 10, 1, 2]]).T # стаж репетитора"
      ],
      "execution_count": 3,
      "outputs": []
    },
    {
      "cell_type": "code",
      "metadata": {
        "id": "Vxqy2_uEjs3A"
      },
      "source": [
        "# средний балл ЕГЭ (целевая переменная)\n",
        "y = [45, 55, 50, 59, 65, 35, 75, 80, 50, 60]"
      ],
      "execution_count": 4,
      "outputs": []
    },
    {
      "cell_type": "code",
      "metadata": {
        "colab": {
          "base_uri": "https://localhost:8080/"
        },
        "id": "IDB22MQKMYaJ",
        "outputId": "995af19f-3f12-4bca-c7b3-bb0ff286bb2a"
      },
      "source": [
        "n = X.shape[0]\n",
        "alpha = 1e-2\n",
        "w = np.array([1, 0.5])\n",
        "\n",
        "for i in range(1000+1):\n",
        "    y_pred = np.dot(w, X.T)\n",
        "    err = calc_mse(y, y_pred)\n",
        "    for j in range(w.shape[0]):\n",
        "        w[j] -= alpha * (1/n * 2 * np.sum(X[:,j] * (y_pred - y)))\n",
        "    if i % 200 == 0:\n",
        "        print(i, w, err) # МНК: array([47.23214286,  3.91071429]) 45.937499999999986"
      ],
      "execution_count": 5,
      "outputs": [
        {
          "output_type": "stream",
          "name": "stdout",
          "text": [
            "0 [2.102 3.9  ] 3173.15\n",
            "200 [41.83683774  4.90699865] 61.9177717428135\n",
            "400 [46.56511152  4.03388672] 46.181755648107604\n",
            "600 [47.14967657  3.92594232] 45.941233404700036\n",
            "800 [47.2219474   3.91259695] 45.93755706443538\n",
            "1000 [47.23088237  3.91094704] 45.937500872219864\n"
          ]
        }
      ]
    },
    {
      "cell_type": "code",
      "metadata": {
        "colab": {
          "base_uri": "https://localhost:8080/"
        },
        "id": "e_2A3dlxkAdK",
        "outputId": "a3d584a6-0589-408b-fe0e-2505d2c58786"
      },
      "source": [
        "n = X.shape[0]\n",
        "alpha = 1e-3\n",
        "w = np.array([1, 0.5])\n",
        "\n",
        "for i in range(3000+1):\n",
        "    y_pred = np.dot(w, X.T)\n",
        "    err = calc_mse(y, y_pred)\n",
        "    for j in range(w.shape[0]):\n",
        "        w[j] -= alpha * (1/n * 2 * np.sum(X[:,j] * (y_pred - y)))\n",
        "    if i % 300 == 0:\n",
        "        print(i, w, err) # МНК: array([47.23214286,  3.91071429]) 45.937499999999986"
      ],
      "execution_count": 6,
      "outputs": [
        {
          "output_type": "stream",
          "name": "stdout",
          "text": [
            "0 [1.1102 0.84  ] 3173.15\n",
            "300 [14.98921624  9.8634316 ] 606.0048772266812\n",
            "600 [23.63334499  8.26841272] 345.9620646005472\n",
            "900 [29.95992301  7.10016181] 206.65877484533297\n",
            "1200 [34.59041507  6.24510603] 132.03487746741158\n",
            "1500 [37.97952317  5.61928129] 92.05932434403572\n",
            "1800 [40.46004868  5.16123328] 70.6446716165486\n",
            "2100 [42.2755726  4.8259829] 59.172976652790545\n",
            "2400 [43.60437454  4.58060946] 53.027661712772876\n",
            "2700 [44.5769393   4.40101793] 49.7356550972455\n",
            "3000 [45.28877016  4.26957292] 47.97214782992787\n"
          ]
        }
      ]
    },
    {
      "cell_type": "markdown",
      "metadata": {
        "id": "V1EpOMzVkWbj"
      },
      "source": [
        "Экспериментально к значениям полученым с помощью МНК близки пары:\n",
        "\n",
        "alpha = 1e-2;range(1000+1)\n",
        "\n",
        "alpha = 1e-3 range(3000+1)\n",
        "\n",
        "Вывод: Чем больше шаг итерации, тем меньше шагов надо выполнить до достижения целевых значений ошибки. И наоборот, чем меньше шаг, тем больше надо итераций вычислений. "
      ]
    },
    {
      "cell_type": "markdown",
      "metadata": {
        "id": "5Qu1o4JhZYwI"
      },
      "source": [
        "*2. В этом коде мы избавляемся от итераций по весам, но тут есть ошибка, исправьте ее:"
      ]
    },
    {
      "cell_type": "code",
      "metadata": {
        "colab": {
          "base_uri": "https://localhost:8080/"
        },
        "id": "WZZzDCQLY4pA",
        "outputId": "fadf66ef-986e-4928-d2f9-05d71687fbfe"
      },
      "source": [
        "n = X.shape[0]\n",
        "alpha = 6e-3\n",
        "w = np.array([1, 0.5])\n",
        "\n",
        "for i in range(1000):\n",
        "    y_pred = np.dot(w, X.T)\n",
        "    err = calc_mse(y, y_pred)\n",
        "    '''for j in range(w.shape[0]):\n",
        "        w[j] -= alpha * (1/n * 2 * np.sum(X[j] * (y_pred - y)))'''\n",
        "    w -= (alpha * (1/n * 2 * np.dot(X.T, (np.dot(w, X.T) - y)))) # ошибка в неверной формуле для матриц\n",
        "    if i % 100 == 0:\n",
        "        print(i, w, err) # [47.23214286  3.91071429] 45.937499999999986"
      ],
      "execution_count": 11,
      "outputs": [
        {
          "output_type": "stream",
          "name": "stdout",
          "text": [
            "0 [1.6612 2.54  ] 3173.15\n",
            "100 [23.79438633  8.2386753 ] 344.9858035547529\n",
            "200 [34.69712788  6.22540069] 131.47547818319757\n",
            "300 [40.52814794  5.14865823] 70.40426882863366\n",
            "400 [43.64670256  4.57279326] 52.9358274053043\n",
            "500 [45.31457247  4.26480833] 47.93925948098698\n",
            "600 [46.20658508  4.10009137] 46.51007124276351\n",
            "700 [46.68365256  4.01199722] 46.101274834666015\n",
            "800 [46.93879848  3.96488257] 45.98434516871721\n",
            "900 [47.07525599  3.93968465] 45.950899310319045\n"
          ]
        }
      ]
    },
    {
      "cell_type": "markdown",
      "metadata": {
        "id": "EaJdETKaqKMZ"
      },
      "source": [
        "*3. Вместо того, чтобы задавать количество итераций, задайте условие остановки алгоритма - когда ошибка за итерацию начинает изменяться \n",
        "ниже определенного порога. \n",
        "\n",
        "Сколько нужно сделать итераций, если установить допустимое отклонение mse в размере $\\text{diff}=10^{-6}$, а значение $\\alpha=10^{-2}$?"
      ]
    },
    {
      "cell_type": "code",
      "metadata": {
        "id": "kGLyytFgHdco",
        "colab": {
          "base_uri": "https://localhost:8080/"
        },
        "outputId": "51d24056-530e-4287-f812-900863f37905"
      },
      "source": [
        "n = X.shape[0]\n",
        "w = np.array([1, 0.5])\n",
        "diff = 1e-6\n",
        "alpha = 1e-2\n",
        "i = err_old = err = 0\n",
        "\n",
        "while True:\n",
        "    i+=1\n",
        "    y_pred = np.dot(w, X.T)\n",
        "    err_old = err\n",
        "    err = calc_mse(y, y_pred)\n",
        "    delta_err = abs(err - err_old)\n",
        "    '''for j in range(w.shape[0]):\n",
        "        w[j] -= alpha * (1/n * 2 * np.sum(X[j] * (y_pred - y)))'''\n",
        "    w -= (alpha * (1/n * 2 * np.dot(X.T, (np.dot(w, X.T) - y))))\n",
        "    if i % 100 == 0:\n",
        "        print(f\"i={i}, w={w}, Error={err}, delta_err={delta_err}, diff={diff}\") # [47.23214286  3.91071429] 45.937499999999986\n",
        "    if delta_err < diff:\n",
        "      break"
      ],
      "execution_count": 12,
      "outputs": [
        {
          "output_type": "stream",
          "name": "stdout",
          "text": [
            "i=100, w=[31.72648327  6.77395294], Error=177.92494760058068, delta_err=2.7881692443066584, diff=1e-06\n",
            "i=200, w=[41.78014899  4.91746666], Error=62.255347042578386, delta_err=0.34470641022698345, diff=1e-06\n",
            "i=300, w=[45.3151501   4.26470166], Error=47.95490496498401, delta_err=0.04261667741089781, diff=1e-06\n",
            "i=400, w=[46.55810299  4.0351809 ], Error=46.18691542730009, delta_err=0.005268776964001631, diff=1e-06\n",
            "i=500, w=[46.99514157  3.95447839], Error=45.968335680716045, delta_err=0.0006513884325300978, diff=1e-06\n",
            "i=600, w=[47.14881009  3.92610232], Error=45.94131227101915, delta_err=8.053233089810874e-05, diff=1e-06\n",
            "i=700, w=[47.20284196  3.91612492], Error=45.93797131796627, delta_err=9.956357814644434e-06, diff=1e-06\n",
            "i=800, w=[47.22184028  3.91261674], Error=45.93755826989325, delta_err=1.2309225425610748e-06, diff=1e-06\n"
          ]
        }
      ]
    }
  ]
}