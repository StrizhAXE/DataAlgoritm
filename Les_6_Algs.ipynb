{
  "nbformat": 4,
  "nbformat_minor": 0,
  "metadata": {
    "colab": {
      "name": "Les_6 Algs.ipynb",
      "provenance": [],
      "collapsed_sections": [],
      "authorship_tag": "ABX9TyOH4JWIaVkVu4fzudyEA1T4",
      "include_colab_link": true
    },
    "kernelspec": {
      "name": "python3",
      "display_name": "Python 3"
    },
    "language_info": {
      "name": "python"
    }
  },
  "cells": [
    {
      "cell_type": "markdown",
      "metadata": {
        "id": "view-in-github",
        "colab_type": "text"
      },
      "source": [
        "<a href=\"https://colab.research.google.com/github/StrizhAXE/DataAlgoritm/blob/main/Les_6_Algs.ipynb\" target=\"_parent\"><img src=\"https://colab.research.google.com/assets/colab-badge.svg\" alt=\"Open In Colab\"/></a>"
      ]
    },
    {
      "cell_type": "markdown",
      "metadata": {
        "id": "SELk2I1E2_4r"
      },
      "source": [
        "1. Для реализованной в методичке модели градиентного бустинга построить графики зависимости ошибки от количества деревьев в ансамбле и от максимальной глубины деревьев.\n",
        "Сделать выводы о зависимости ошибки от этих параметров. Подобрать оптимальные значения этих гиперпараметров."
      ]
    },
    {
      "cell_type": "code",
      "metadata": {
        "id": "9-3DLUBEGgeI"
      },
      "source": [
        "%reset -f"
      ],
      "execution_count": 264,
      "outputs": []
    },
    {
      "cell_type": "code",
      "metadata": {
        "id": "tdNlhnIk3Csh"
      },
      "source": [
        "from sklearn.tree import DecisionTreeRegressor\n",
        "from sklearn import model_selection\n",
        "from sklearn.datasets import load_diabetes\n",
        "\n",
        "import numpy as np\n",
        "\n",
        "import matplotlib.pyplot as plt"
      ],
      "execution_count": 265,
      "outputs": []
    },
    {
      "cell_type": "code",
      "metadata": {
        "id": "Lnck4_cS2Y_Z"
      },
      "source": [
        "X, y = load_diabetes(return_X_y=True)"
      ],
      "execution_count": 266,
      "outputs": []
    },
    {
      "cell_type": "code",
      "metadata": {
        "id": "Lik4csKO3gFB"
      },
      "source": [
        "X_train, X_test, y_train, y_test = model_selection.train_test_split(X, y, test_size=0.25)"
      ],
      "execution_count": 267,
      "outputs": []
    },
    {
      "cell_type": "code",
      "metadata": {
        "id": "TYo5F2Gw3kRG"
      },
      "source": [
        "def gb_predict(X, trees_list, coef_list, eta):\n",
        "    # Реализуемый алгоритм градиентного бустинга будет инициализироваться нулевыми значениями,\n",
        "    # поэтому все деревья из списка trees_list уже являются дополнительными и при предсказании прибавляются с шагом eta\n",
        "    return np.array([sum([eta* coef * alg.predict([x])[0] for alg, coef in zip(trees_list, coef_list)]) for x in X])"
      ],
      "execution_count": 268,
      "outputs": []
    },
    {
      "cell_type": "code",
      "metadata": {
        "id": "iH-nqnZL3tYg"
      },
      "source": [
        "def mean_squared_error(y_real, prediction):\n",
        "    return (sum((y_real - prediction)**2)) / len(y_real)"
      ],
      "execution_count": 269,
      "outputs": []
    },
    {
      "cell_type": "code",
      "metadata": {
        "id": "c8xvolzj3vpp"
      },
      "source": [
        "def bias(y, z):\n",
        "    return (y - z)"
      ],
      "execution_count": 270,
      "outputs": []
    },
    {
      "cell_type": "code",
      "metadata": {
        "id": "C-XXtBEd3y8K"
      },
      "source": [
        "def gb_fit(n_trees, max_depth, X_train, X_test, y_train, y_test, coefs, eta):\n",
        "    \n",
        "    # Деревья будем записывать в список\n",
        "    trees = []\n",
        "    \n",
        "    # Будем записывать ошибки на обучающей и тестовой выборке на каждой итерации в список\n",
        "    train_errors = []\n",
        "    test_errors = []\n",
        "    \n",
        "    for i in range(n_trees):\n",
        "        tree = DecisionTreeRegressor(max_depth=max_depth, random_state=42)\n",
        "\n",
        "        # инициализируем бустинг начальным алгоритмом, возвращающим ноль, \n",
        "        # поэтому первый алгоритм просто обучаем на выборке и добавляем в список\n",
        "        if len(trees) == 0:\n",
        "            # обучаем первое дерево на обучающей выборке\n",
        "            tree.fit(X_train, y_train)\n",
        "            \n",
        "            train_errors.append(mean_squared_error(y_train, gb_predict(X_train, trees, coefs, eta)))\n",
        "            test_errors.append(mean_squared_error(y_test, gb_predict(X_test, trees, coefs, eta)))\n",
        "        else:\n",
        "            # Получим ответы на текущей композиции\n",
        "            target = gb_predict(X_train, trees, coefs, eta)\n",
        "            \n",
        "            # алгоритмы начиная со второго обучаем на сдвиг\n",
        "            tree.fit(X_train, bias(y_train, target))\n",
        "            \n",
        "            train_errors.append(mean_squared_error(y_train, gb_predict(X_train, trees, coefs, eta)))\n",
        "            test_errors.append(mean_squared_error(y_test, gb_predict(X_test, trees, coefs, eta)))\n",
        "\n",
        "        trees.append(tree)\n",
        "        \n",
        "    return trees, train_errors, test_errors"
      ],
      "execution_count": 271,
      "outputs": []
    },
    {
      "cell_type": "code",
      "metadata": {
        "id": "MJIO1qdi6dJV"
      },
      "source": [
        "# Максимальная глубина деревьев\n",
        "max_depth = 2\n",
        "\n",
        "# Число деревьев в ансамбле\n",
        "n_trees = 15\n",
        "\n",
        "# для простоты примем коэффициенты равными 1\n",
        "coefs = [1] * n_trees\n",
        "# Шаг\n",
        "eta = 1\n",
        "\n",
        "trees, train_errors, test_errors = gb_fit(n_trees, max_depth, X_train, X_test, y_train, y_test, coefs, eta)\n",
        "errors_deep = test_errors\n",
        "    "
      ],
      "execution_count": 282,
      "outputs": []
    },
    {
      "cell_type": "code",
      "metadata": {
        "colab": {
          "base_uri": "https://localhost:8080/"
        },
        "id": "BqDxF8NrACbm",
        "outputId": "44efe844-d7ff-4705-a96a-82c8d33b38eb"
      },
      "source": [
        "# n_trees_for_deep = 2\n",
        "for n_trees_for_deep in range(1, 6):\n",
        "    errors_depth = []\n",
        "    for max_depth in range(1, 6):\n",
        "        trees, train_errors, test_errors = gb_fit(n_trees_for_deep, max_depth, X_train, X_test, y_train, y_test, coefs, eta)\n",
        "        errors_depth.append(test_errors[::-1][0])\n",
        "    print(n_trees_for_deep, min(errors_depth))"
      ],
      "execution_count": 273,
      "outputs": [
        {
          "output_type": "stream",
          "name": "stdout",
          "text": [
            "1 31764.405405405407\n",
            "2 3544.7087801282532\n",
            "3 3503.1833896860267\n",
            "4 3422.8956317149455\n",
            "5 3323.6306905719625\n"
          ]
        }
      ]
    },
    {
      "cell_type": "code",
      "metadata": {
        "id": "uxXm-ItaI0hK"
      },
      "source": [
        "# выбираем оптимальное число деревьев = 5\n",
        "n_trees_for_deep = 5\n",
        "errors_depth = []\n",
        "for max_depth in range(1, 10):\n",
        "    trees, train_errors, test_errors = gb_fit(n_trees_for_deep, max_depth, X_train, X_test, y_train, y_test, coefs, eta)\n",
        "    errors_depth.append(test_errors[::-1][0])"
      ],
      "execution_count": 279,
      "outputs": []
    },
    {
      "cell_type": "code",
      "metadata": {
        "id": "Y5XMsxxx4NtN"
      },
      "source": [
        "def get_error_plot(n_trees, test_err):\n",
        "    plt.xlabel('Iteration number')\n",
        "    plt.ylabel('MSE')\n",
        "    plt.xlim(0, n_trees)\n",
        "    plt.plot(list(range(n_trees)), test_err, label='test error')\n",
        "    plt.legend(loc='upper right')\n",
        "    plt.show()"
      ],
      "execution_count": 280,
      "outputs": []
    },
    {
      "cell_type": "markdown",
      "metadata": {
        "id": "C5PtQIQR-peh"
      },
      "source": [
        "График зависимости ошибки от количества деревьев, при max_depth = 5"
      ]
    },
    {
      "cell_type": "code",
      "metadata": {
        "colab": {
          "base_uri": "https://localhost:8080/",
          "height": 279
        },
        "id": "tACwNvPc4QTw",
        "outputId": "fea7a46e-c1b2-4483-be0f-d732d9bf035c"
      },
      "source": [
        "get_error_plot(n_trees, errors_deep)"
      ],
      "execution_count": 283,
      "outputs": [
        {
          "output_type": "display_data",
          "data": {
            "text/plain": [
              "<Figure size 432x288 with 1 Axes>"
            ],
            "image/png": "[encoded data removed]"
          },
          "metadata": {
            "needs_background": "light"
          }
        }
      ]
    },
    {
      "cell_type": "code",
      "metadata": {
        "colab": {
          "base_uri": "https://localhost:8080/",
          "height": 279
        },
        "id": "VUL6I5g9_9TA",
        "outputId": "5e4dfd8a-5ab0-4001-ae04-7618da53fb62"
      },
      "source": [
        "plt.xlabel('Deep of tree')\n",
        "plt.ylabel('MSE')\n",
        "plt.xlim(1, len(errors_depth))\n",
        "plt.plot(list(range(1, len(errors_depth) + 1)), errors_depth, label=f'test error, n_trees={n_trees_for_deep}')\n",
        "plt.legend(loc='upper right')\n",
        "plt.show()"
      ],
      "execution_count": 284,
      "outputs": [
        {
          "output_type": "display_data",
          "data": {
            "text/plain": [
              "<Figure size 432x288 with 1 Axes>"
            ],
            "image/png": "[encoded data removed]"
          },
          "metadata": {
            "needs_background": "light"
          }
        }
      ]
    },
    {
      "cell_type": "code",
      "metadata": {
        "colab": {
          "base_uri": "https://localhost:8080/"
        },
        "id": "QjSwVwZZDUTc",
        "outputId": "4fdb4d29-6e8e-4d45-9455-5085735d97f1"
      },
      "source": [
        "# Оптимальные параметры судя по графику \n",
        "# Максимальная глубина деревьев\n",
        "max_depth = 1\n",
        "\n",
        "# Число деревьев в ансамбле\n",
        "n_trees = 5\n",
        "\n",
        "trees, train_errors, test_errors = gb_fit(n_trees_for_deep, max_depth, X_train, X_test, y_train, y_test, coefs, eta)\n",
        "print(f\"При max_depth = {max_depth}, n_trees = {n_trees}\\nMSE = {np.round(test_errors[::-1][0], 2)}\")"
      ],
      "execution_count": 285,
      "outputs": [
        {
          "output_type": "stream",
          "name": "stdout",
          "text": [
            "При max_depth = 1, n_trees = 5\n",
            "MSE = 3323.63\n"
          ]
        }
      ]
    }
  ]
}